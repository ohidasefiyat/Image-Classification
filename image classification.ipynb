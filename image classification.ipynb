{
 "cells": [
  {
   "cell_type": "code",
   "execution_count": 1,
   "metadata": {
    "gather": {
     "logged": 1623243796882
    }
   },
   "outputs": [
    {
     "name": "stdout",
     "output_type": "stream",
     "text": [
      "Azure ML SDK Version:  1.27.0\n"
     ]
    }
   ],
   "source": [
    "%matplotlib inline\n",
    "import numpy as np\n",
    "import pandas as pd\n",
    "\n",
    "import azureml.core\n",
    "from azureml.core import Workspace\n",
    " \n",
    "import tensorflow as tf\n",
    "import numpy as np\n",
    "from tensorflow import keras\n",
    "import os\n",
    "import cv2\n",
    "from tensorflow.keras.preprocessing.image import ImageDataGenerator\n",
    "from tensorflow.keras.preprocessing import image\n",
    "from tensorflow.keras import layers\n",
    "import matplotlib.pyplot as plt\n",
    "\n",
    "np.random.seed(1)\n",
    "# check core SDK version number\n",
    "print(\"Azure ML SDK Version: \", azureml.core.VERSION)"
   ]
  },
  {
   "cell_type": "code",
   "execution_count": 2,
   "metadata": {
    "gather": {
     "logged": 1623243857711
    }
   },
   "outputs": [
    {
     "name": "stdout",
     "output_type": "stream",
     "text": [
      "ml-models\teastus\tfirstresource\n"
     ]
    }
   ],
   "source": [
    "# load workspace configuration from the config.json file in the current folder.\n",
    "ws = Workspace.from_config()\n",
    "print(ws.name, ws.location, ws.resource_group, sep='\\t')"
   ]
  },
  {
   "cell_type": "code",
   "execution_count": 4,
   "metadata": {
    "gather": {
     "logged": 1623244059302
    }
   },
   "outputs": [],
   "source": [
    "experiment_name = 'Model'\n",
    "\n",
    "from azureml.core import Experiment\n",
    "exp = Experiment(workspace=ws, name=experiment_name)"
   ]
  },
  {
   "cell_type": "code",
   "execution_count": 5,
   "metadata": {
    "gather": {
     "logged": 1623244063372
    }
   },
   "outputs": [
    {
     "name": "stdout",
     "output_type": "stream",
     "text": [
      "found compute target: cpu-cluster\n"
     ]
    }
   ],
   "source": [
    "from azureml.core.compute import AmlCompute\n",
    "from azureml.core.compute import ComputeTarget\n",
    "import os\n",
    "\n",
    "# choose a name for your cluster\n",
    "compute_name = os.environ.get(\"AML_COMPUTE_CLUSTER_NAME\", \"cpu-cluster\")\n",
    "compute_min_nodes = os.environ.get(\"AML_COMPUTE_CLUSTER_MIN_NODES\", 0)\n",
    "compute_max_nodes = os.environ.get(\"AML_COMPUTE_CLUSTER_MAX_NODES\", 4)\n",
    "\n",
    "# This example uses CPU VM. For using GPU VM, set SKU to STANDARD_NC6\n",
    "vm_size = os.environ.get(\"AML_COMPUTE_CLUSTER_SKU\", \"STANDARD_D2_V2\")\n",
    "\n",
    "\n",
    "if compute_name in ws.compute_targets:\n",
    "    compute_target = ws.compute_targets[compute_name]\n",
    "    if compute_target and type(compute_target) is AmlCompute:\n",
    "        print(\"found compute target: \" + compute_name)\n",
    "else:\n",
    "    print(\"creating new compute target...\")\n",
    "    provisioning_config = AmlCompute.provisioning_configuration(vm_size = vm_size,\n",
    "                                                                min_nodes = compute_min_nodes, \n",
    "                                                                max_nodes = compute_max_nodes)\n",
    "\n",
    "    # create the cluster\n",
    "    compute_target = ComputeTarget.create(ws, compute_name, provisioning_config)\n",
    "    \n",
    "    # can poll for a minimum number of nodes and for a specific timeout. \n",
    "    # if no min node count is provided it will use the scale settings for the cluster\n",
    "    compute_target.wait_for_completion(show_output=True, min_node_count=None, timeout_in_minutes=20)\n",
    "    \n",
    "     # For a more detailed view of current AmlCompute status, use get_status()\n",
    "    print(compute_target.get_status().serialize())"
   ]
  },
  {
   "cell_type": "code",
   "execution_count": 6,
   "metadata": {
    "gather": {
     "logged": 1623244082761
    }
   },
   "outputs": [],
   "source": [
    "from azureml.core import Dataset\n",
    "from azureml.opendatasets import MNIST\n",
    "\n",
    "os.getenv('DefaultEndpointsProtocol=https;AccountName=firststorages;AccountKey=6G+i6e/EmAcFb/sbs6On47dyRO9E4m0fUWRVOe6qpv2cv0Ywfnc7dsXrPpziVDCsjeAearBqaFmhiPdIIyB/zg==;EndpointSuffix=core.windows.net')\n",
    "\n",
    "\n",
    "blob_dset = Dataset.File.from_files('https://firststorages.blob.core.windows.net/cars')\n",
    "\n",
    "# blob_dset\n",
    "\n",
    "\n",
    "#to download the data set into your working directory\n",
    "# data_folder = os.path.join(os.getcwd(), 'data')\n",
    "# os.makedirs(data_folder, exist_ok=True)\n",
    "\n",
    "# blob_dset = blob_dset.get_file_dataset()\n",
    "# blob_dset.download(data_folder, overwrite=True)\n",
    "\n",
    "#register the file data set into azure ml datasets\n",
    "mnist_file_dataset =blob_dset.register(workspace=ws,\n",
    "                                                 name='testing',\n",
    "                                                 description='training and test dataset',\n",
    "                                                 create_new_version=True)"
   ]
  },
  {
   "cell_type": "code",
   "execution_count": 7,
   "metadata": {
    "gather": {
     "logged": 1623244100800
    }
   },
   "outputs": [
    {
     "name": "stdout",
     "output_type": "stream",
     "text": [
      "Found 368 images belonging to 5 classes.\n",
      "Found 91 images belonging to 5 classes.\n"
     ]
    }
   ],
   "source": [
    "# azureml-core of version 1.0.72 or higher is required\n",
    "from azureml.core import Workspace, Dataset\n",
    "\n",
    "subscription_id = '2b0cab8f-c0cb-4530-b8a1-753f9a6c3035'\n",
    "resource_group = 'FirstResource'\n",
    "workspace_name = 'ml-models'\n",
    "\n",
    "workspace = Workspace(subscription_id, resource_group, workspace_name)\n",
    "img_width = 150\n",
    "img_height = 150\n",
    "batch_size = 32\n",
    "\n",
    "#get the data from dataset\n",
    "dataset = Dataset.get_by_name(workspace, name='testing')\n",
    "# dataset.download(target_path='.', overwrite=True)\n",
    "\n",
    "\n",
    "\n",
    "# divide your data into train and test using image data generator\n",
    "train_datagen = ImageDataGenerator(rescale=1./255,\n",
    "    shear_range=0.2,\n",
    "    zoom_range=0.2,\n",
    "    horizontal_flip=True,\n",
    "    validation_split=0.2) # set validation split\n",
    "#train data set\n",
    "train_generator = train_datagen.flow_from_directory(\n",
    "    \"cars\",\n",
    "    target_size=(img_height, img_width),\n",
    "    batch_size=batch_size,\n",
    "    class_mode='sparse',\n",
    "    subset='training') # set as training data\n",
    "\n",
    "#test data set\n",
    "validation_generator =train_datagen.flow_from_directory(\n",
    "    \"cars\", # same directory as training data\n",
    "    target_size=(img_height, img_width),\n",
    "    batch_size=batch_size,\n",
    "    class_mode='sparse',\n",
    "    subset='validation') # set as testing data\n",
    "# from PIL import Image\n",
    "# data = []\n",
    "\n",
    "# for i in train_generator:   \n",
    "#     image=tf.keras.preprocessing.image.load_img(i, color_mode='RGB', \n",
    "#     target_size= (150,150))\n",
    "#     image=np.array(image)\n",
    "#     data.append(image)\n",
    "    "
   ]
  },
  {
   "cell_type": "code",
   "execution_count": 8,
   "metadata": {
    "gather": {
     "logged": 1623244110336
    }
   },
   "outputs": [
    {
     "data": {
      "text/plain": [
       "['2018-BMW-x7',\n",
       " 'Ford-Explorer-2020',\n",
       " 'Honda-Pilot-2008',\n",
       " 'Lexus-ES-2019',\n",
       " 'Toyoata-Camry-2009']"
      ]
     },
     "execution_count": 8,
     "metadata": {},
     "output_type": "execute_result"
    }
   ],
   "source": [
    "classes = list(validation_generator.class_indices.keys())\n",
    "classes"
   ]
  },
  {
   "cell_type": "code",
   "execution_count": 9,
   "metadata": {
    "gather": {
     "logged": 1623244114207
    }
   },
   "outputs": [],
   "source": [
    "#Keras has an useful API which makes us easier to define the layers of our neural network\n",
    "#define our Cnn model layers\n",
    "model = keras.Sequential()\n",
    "#model input shape\n",
    "model.add(keras.Input(shape=(150, 150, 3)))\n",
    "\n",
    "\n",
    "model.add(layers.Conv2D(32, (3, 3), activation='relu', padding=\"same\"))\n",
    "model.add(layers.BatchNormalization())\n",
    "model.add(layers.Conv2D(32, (3, 3), activation='relu', padding=\"same\"))\n",
    "model.add(layers.BatchNormalization())\n",
    "model.add(layers.MaxPooling2D((2, 2), strides=2))\n",
    "model.add(layers.Dropout(rate=0.37))\n",
    "\n",
    "model.add(layers.Conv2D(64, (3, 3), activation='relu', padding=\"same\"))\n",
    "model.add(layers.BatchNormalization())\n",
    "model.add(layers.Conv2D(64, (3, 3), activation='relu', padding=\"same\"))\n",
    "model.add(layers.BatchNormalization())\n",
    "model.add(layers.MaxPooling2D((2, 2), strides=2))\n",
    "model.add(layers.Dropout(rate=0.37))\n",
    "\n",
    "model.add(layers.Conv2D(128, (3, 3), activation='relu', padding=\"same\"))\n",
    "model.add(layers.BatchNormalization())\n",
    "model.add(layers.Conv2D(128, (3, 3), activation='relu', padding=\"same\"))\n",
    "model.add(layers.BatchNormalization())\n",
    "model.add(layers.MaxPooling2D((2, 2), strides=2))\n",
    "model.add(layers.Dropout(rate=0.37))\n",
    "\n",
    "# model.add(layers.Conv2D(64, (3, 3), activation='relu'))\n",
    "# model.add(layers.BatchNormalization())\n",
    "# model.add(layers.MaxPooling2D((2, 2), strides=2))\n",
    "# #model.add(layers.Dropout(rate=0.25))\n",
    "\n",
    "model.add(layers.Flatten())\n",
    "model.add(layers.Dense(512))\n",
    "model.add(layers.Dropout(rate=0.5))\n",
    "model.add(layers.Dense(5, activation= keras.activations.softmax ))"
   ]
  },
  {
   "cell_type": "code",
   "execution_count": 10,
   "metadata": {
    "gather": {
     "logged": 1623244125938
    }
   },
   "outputs": [],
   "source": [
    "#specify optimizer and loss function for our model\n",
    "model.compile(optimizer=keras.optimizers.Adam(),\n",
    "              loss=keras.losses.SparseCategoricalCrossentropy(from_logits=True), # default from_logits=False\n",
    "              metrics=[keras.metrics.SparseCategoricalAccuracy()])"
   ]
  },
  {
   "cell_type": "code",
   "execution_count": 11,
   "metadata": {
    "gather": {
     "logged": 1623244470039
    }
   },
   "outputs": [
    {
     "name": "stdout",
     "output_type": "stream",
     "text": [
      "WARNING:tensorflow:sample_weight modes were coerced from\n",
      "  ...\n",
      "    to  \n",
      "  ['...']\n",
      "WARNING:tensorflow:sample_weight modes were coerced from\n",
      "  ...\n",
      "    to  \n",
      "  ['...']\n",
      "Train for 12 steps, validate for 3 steps\n",
      "Epoch 1/10\n",
      "12/12 [==============================] - 36s 3s/step - loss: 1.7008 - sparse_categorical_accuracy: 0.2011 - val_loss: 1.7067 - val_sparse_categorical_accuracy: 0.1978\b\b\b\b\b\b\b\b\b\b\b\b\b\b\b\b\b\b\b\b\b\b\b\b\b\b\b\b\b\b\b\b\b\b\b\b\b\b\b\b\n",
      "Epoch 2/10\n",
      "12/12 [==============================] - 32s 3s/step - loss: 1.7095 - sparse_categorical_accuracy: 0.1957 - val_loss: 1.7063 - val_sparse_categorical_accuracy: 0.1978\b\b\b\b\b\b\b\b\b\b\b\b\b\b\b\b\b\b\b\b\b\b\b\b\b\b\b\b\b\b\b\b\b\b\b\b\b\b\n",
      "Epoch 3/10\n",
      "12/12 [==============================] - 33s 3s/step - loss: 1.7095 - sparse_categorical_accuracy: 0.1957 - val_loss: 1.6920 - val_sparse_categorical_accuracy: 0.1978\b\b\b\b\b\b\b\b\b\b\b\b\b\b\b\b\b\b\b\b\b\b\b\b\b\b\b\b\b\b\b\b\b\b\b\b\b\b\n",
      "Epoch 4/10\n",
      "12/12 [==============================] - 32s 3s/step - loss: 1.7095 - sparse_categorical_accuracy: 0.1957 - val_loss: 1.7173 - val_sparse_categorical_accuracy: 0.1429\b\b\b\b\b\b\b\b\b\b\b\b\b\b\b\b\b\b\b\b\b\b\b\b\b\b\b\b\b\b\b\b\b\b\b\b\b\b\n",
      "Epoch 5/10\n",
      "12/12 [==============================] - 32s 3s/step - loss: 1.7095 - sparse_categorical_accuracy: 0.1957 - val_loss: 1.7359 - val_sparse_categorical_accuracy: 0.1538\b\b\b\b\b\b\b\b\b\b\b\b\b\b\b\b\b\b\b\b\b\b\b\b\b\b\b\b\b\b\b\b\b\b\b\b\b\b\n",
      "Epoch 6/10\n",
      "12/12 [==============================] - 32s 3s/step - loss: 1.7095 - sparse_categorical_accuracy: 0.1957 - val_loss: 1.7132 - val_sparse_categorical_accuracy: 0.1868\b\b\b\b\b\b\b\b\b\b\b\b\b\b\b\b\b\b\b\b\b\b\b\b\b\b\b\b\b\b\b\b\b\b\b\b\b\b\n",
      "Epoch 7/10\n",
      "12/12 [==============================] - 32s 3s/step - loss: 1.7095 - sparse_categorical_accuracy: 0.1957 - val_loss: 1.7110 - val_sparse_categorical_accuracy: 0.1868\b\b\b\b\b\b\b\b\b\b\b\b\b\b\b\b\b\b\b\b\b\b\b\b\b\b\b\b\b\b\b\b\b\b\b\b\b\b\n",
      "Epoch 8/10\n",
      "12/12 [==============================] - 33s 3s/step - loss: 1.7095 - sparse_categorical_accuracy: 0.1957 - val_loss: 1.7117 - val_sparse_categorical_accuracy: 0.1868\b\b\b\b\b\b\b\b\b\b\b\b\b\b\b\b\b\b\b\b\b\b\b\b\b\b\b\b\b\b\b\b\b\b\b\b\b\b\n",
      "Epoch 9/10\n",
      "12/12 [==============================] - 33s 3s/step - loss: 1.7095 - sparse_categorical_accuracy: 0.1957 - val_loss: 1.7171 - val_sparse_categorical_accuracy: 0.1868\b\b\b\b\b\b\b\b\b\b\b\b\b\b\b\b\b\b\b\b\b\b\b\b\b\b\b\b\b\b\b\b\b\b\b\b\b\b\n",
      "Epoch 10/10\n",
      "12/12 [==============================] - 33s 3s/step - loss: 1.7095 - sparse_categorical_accuracy: 0.1957 - val_loss: 1.7180 - val_sparse_categorical_accuracy: 0.1868\b\b\b\b\b\b\b\b\b\b\b\b\b\b\b\b\b\b\b\b\b\b\b\b\b\b\b\b\b\b\b\b\b\b\b\b\b\b\n"
     ]
    },
    {
     "data": {
      "text/plain": [
       "<tensorflow.python.keras.callbacks.History at 0x7f50aa704c88>"
      ]
     },
     "execution_count": 11,
     "metadata": {},
     "output_type": "execute_result"
    }
   ],
   "source": [
    "#vview your model\n",
    "# model.describe\n",
    "\n",
    "# model.fit(train_generator,\n",
    "# #          steps_per_epoch = 10,\n",
    "#          epochs = 10,\n",
    "#          validation_data = testing_generator\n",
    "       \n",
    "#          )\n",
    "\n",
    "\n",
    "model.fit(\n",
    "    train_generator,\n",
    "#     steps_per_epoch = train_generator.samples // batch_size,\n",
    "    validation_data = validation_generator, \n",
    "    #validation_steps = validation_generator.samples // batch_size,\n",
    "    epochs = 10)"
   ]
  },
  {
   "cell_type": "code",
   "execution_count": 12,
   "metadata": {
    "gather": {
     "logged": 1623244526822
    }
   },
   "outputs": [
    {
     "name": "stdout",
     "output_type": "stream",
     "text": [
      "Model: \"sequential\"\n",
      "_________________________________________________________________\n",
      "Layer (type)                 Output Shape              Param #   \n",
      "=================================================================\n",
      "conv2d (Conv2D)              (None, 150, 150, 32)      896       \n",
      "_________________________________________________________________\n",
      "batch_normalization (BatchNo (None, 150, 150, 32)      128       \n",
      "_________________________________________________________________\n",
      "conv2d_1 (Conv2D)            (None, 150, 150, 32)      9248      \n",
      "_________________________________________________________________\n",
      "batch_normalization_1 (Batch (None, 150, 150, 32)      128       \n",
      "_________________________________________________________________\n",
      "max_pooling2d (MaxPooling2D) (None, 75, 75, 32)        0         \n",
      "_________________________________________________________________\n",
      "dropout (Dropout)            (None, 75, 75, 32)        0         \n",
      "_________________________________________________________________\n",
      "conv2d_2 (Conv2D)            (None, 75, 75, 64)        18496     \n",
      "_________________________________________________________________\n",
      "batch_normalization_2 (Batch (None, 75, 75, 64)        256       \n",
      "_________________________________________________________________\n",
      "conv2d_3 (Conv2D)            (None, 75, 75, 64)        36928     \n",
      "_________________________________________________________________\n",
      "batch_normalization_3 (Batch (None, 75, 75, 64)        256       \n",
      "_________________________________________________________________\n",
      "max_pooling2d_1 (MaxPooling2 (None, 37, 37, 64)        0         \n",
      "_________________________________________________________________\n",
      "dropout_1 (Dropout)          (None, 37, 37, 64)        0         \n",
      "_________________________________________________________________\n",
      "conv2d_4 (Conv2D)            (None, 37, 37, 128)       73856     \n",
      "_________________________________________________________________\n",
      "batch_normalization_4 (Batch (None, 37, 37, 128)       512       \n",
      "_________________________________________________________________\n",
      "conv2d_5 (Conv2D)            (None, 37, 37, 128)       147584    \n",
      "_________________________________________________________________\n",
      "batch_normalization_5 (Batch (None, 37, 37, 128)       512       \n",
      "_________________________________________________________________\n",
      "max_pooling2d_2 (MaxPooling2 (None, 18, 18, 128)       0         \n",
      "_________________________________________________________________\n",
      "dropout_2 (Dropout)          (None, 18, 18, 128)       0         \n",
      "_________________________________________________________________\n",
      "flatten (Flatten)            (None, 41472)             0         \n",
      "_________________________________________________________________\n",
      "dense (Dense)                (None, 512)               21234176  \n",
      "_________________________________________________________________\n",
      "dropout_3 (Dropout)          (None, 512)               0         \n",
      "_________________________________________________________________\n",
      "dense_1 (Dense)              (None, 5)                 2565      \n",
      "=================================================================\n",
      "Total params: 21,525,541\n",
      "Trainable params: 21,524,645\n",
      "Non-trainable params: 896\n",
      "_________________________________________________________________\n"
     ]
    }
   ],
   "source": [
    "model.summary()"
   ]
  },
  {
   "cell_type": "code",
   "execution_count": 14,
   "metadata": {
    "gather": {
     "logged": 1623244542053
    }
   },
   "outputs": [],
   "source": [
    "def predictImage(filename):\n",
    "    img1 = image.load_img(filename,target_size=(150,150))\n",
    "\n",
    "    \n",
    "    plt.imshow(img1)\n",
    " \n",
    "    Y = image.img_to_array(img1)\n",
    "    \n",
    "    X = np.expand_dims(Y,axis=0)\n",
    "   \n",
    "    val = model.predict(X)\n",
    "    print(val)\n",
    "    prediction = np.argmax(val, axis = 1)\n",
    "    print(prediction)\n",
    "    plt.xlabel(classes[prediction[0]])\n"
   ]
  },
  {
   "cell_type": "code",
   "execution_count": 15,
   "metadata": {
    "gather": {
     "logged": 1623244545976
    }
   },
   "outputs": [
    {
     "name": "stdout",
     "output_type": "stream",
     "text": [
      "[[0. 0. 1. 0. 0.]]\n",
      "[2]\n"
     ]
    },
    {
     "data": {
      "image/png": "[encoded data removed]",
      "text/plain": [
       "<Figure size 432x288 with 1 Axes>"
      ]
     },
     "metadata": {
      "needs_background": "light"
     },
     "output_type": "display_data"
    }
   ],
   "source": [
    "predictImage(r\"cars/Toyoata-Camry-2009/10.jpg\")"
   ]
  },
  {
   "cell_type": "code",
   "execution_count": 16,
   "metadata": {
    "gather": {
     "logged": 1623244580368
    }
   },
   "outputs": [
    {
     "name": "stdout",
     "output_type": "stream",
     "text": [
      "Found 50 images belonging to 5 classes.\n"
     ]
    }
   ],
   "source": [
    "\n",
    "test = ImageDataGenerator(rescale=1/255)\n",
    "\n",
    "                                \n",
    "test_generator = test.flow_from_directory(\n",
    "    \"test\",\n",
    "    target_size=(img_height, img_width),\n",
    "    color_mode=\"rgb\",\n",
    "    batch_size=32,\n",
    "    class_mode=None,\n",
    "    shuffle=False\n",
    ")"
   ]
  },
  {
   "cell_type": "code",
   "execution_count": 18,
   "metadata": {
    "collapsed": true,
    "gather": {
     "logged": 1623244632222
    },
    "jupyter": {
     "outputs_hidden": false,
     "source_hidden": false
    },
    "nteract": {
     "transient": {
      "deleting": false
     }
    }
   },
   "outputs": [
    {
     "name": "stdout",
     "output_type": "stream",
     "text": [
      "2/1 [======================================] - 3s 1s/step\b\b\b\b\b\b\b\b\b\b\b\b\b\b\b\b\b\b\b\b\b\b\b\b\b\b\b\b\b\b\b\b\b\b\b\n"
     ]
    }
   ],
   "source": [
    "test_generator.reset()\n",
    "pred=model.predict(test_generator,verbose=1,steps=50/32)"
   ]
  },
  {
   "cell_type": "code",
   "execution_count": 19,
   "metadata": {
    "collapsed": true,
    "gather": {
     "logged": 1623244653045
    },
    "jupyter": {
     "outputs_hidden": false,
     "source_hidden": false
    },
    "nteract": {
     "transient": {
      "deleting": false
     }
    }
   },
   "outputs": [],
   "source": [
    "predicted_class_indices=np.argmax(pred,axis=1)"
   ]
  },
  {
   "cell_type": "code",
   "execution_count": 20,
   "metadata": {
    "collapsed": true,
    "gather": {
     "logged": 1623244667386
    },
    "jupyter": {
     "outputs_hidden": false,
     "source_hidden": false
    },
    "nteract": {
     "transient": {
      "deleting": false
     }
    }
   },
   "outputs": [],
   "source": [
    "labels = (train_generator.class_indices)\n",
    "labels = dict((x,y) for y,x in labels.items())\n",
    "predictions = [labels[y] for y in predicted_class_indices]"
   ]
  },
  {
   "cell_type": "code",
   "execution_count": 21,
   "metadata": {
    "collapsed": true,
    "gather": {
     "logged": 1623244687785
    },
    "jupyter": {
     "outputs_hidden": false,
     "source_hidden": false
    },
    "nteract": {
     "transient": {
      "deleting": false
     }
    }
   },
   "outputs": [
    {
     "data": {
      "text/html": [
       "<div>\n",
       "<style scoped>\n",
       "    .dataframe tbody tr th:only-of-type {\n",
       "        vertical-align: middle;\n",
       "    }\n",
       "\n",
       "    .dataframe tbody tr th {\n",
       "        vertical-align: top;\n",
       "    }\n",
       "\n",
       "    .dataframe thead th {\n",
       "        text-align: right;\n",
       "    }\n",
       "</style>\n",
       "<table border=\"1\" class=\"dataframe\">\n",
       "  <thead>\n",
       "    <tr style=\"text-align: right;\">\n",
       "      <th></th>\n",
       "      <th>Filenames</th>\n",
       "      <th>Predictions</th>\n",
       "    </tr>\n",
       "  </thead>\n",
       "  <tbody>\n",
       "    <tr>\n",
       "      <th>0</th>\n",
       "      <td>Lexus-ES-2019/1.jpg</td>\n",
       "      <td>2018-BMW-x7</td>\n",
       "    </tr>\n",
       "    <tr>\n",
       "      <th>1</th>\n",
       "      <td>Lexus-ES-2019/10.jpg</td>\n",
       "      <td>2018-BMW-x7</td>\n",
       "    </tr>\n",
       "    <tr>\n",
       "      <th>2</th>\n",
       "      <td>Lexus-ES-2019/100.JPG</td>\n",
       "      <td>2018-BMW-x7</td>\n",
       "    </tr>\n",
       "    <tr>\n",
       "      <th>3</th>\n",
       "      <td>Lexus-ES-2019/11.jpg</td>\n",
       "      <td>2018-BMW-x7</td>\n",
       "    </tr>\n",
       "    <tr>\n",
       "      <th>4</th>\n",
       "      <td>Lexus-ES-2019/12.jpg</td>\n",
       "      <td>2018-BMW-x7</td>\n",
       "    </tr>\n",
       "    <tr>\n",
       "      <th>5</th>\n",
       "      <td>Lexus-ES-2019/13.jpg</td>\n",
       "      <td>2018-BMW-x7</td>\n",
       "    </tr>\n",
       "    <tr>\n",
       "      <th>6</th>\n",
       "      <td>Lexus-ES-2019/14.jpg</td>\n",
       "      <td>2018-BMW-x7</td>\n",
       "    </tr>\n",
       "    <tr>\n",
       "      <th>7</th>\n",
       "      <td>Lexus-ES-2019/15.jpg</td>\n",
       "      <td>2018-BMW-x7</td>\n",
       "    </tr>\n",
       "    <tr>\n",
       "      <th>8</th>\n",
       "      <td>Lexus-ES-2019/16.jpg</td>\n",
       "      <td>2018-BMW-x7</td>\n",
       "    </tr>\n",
       "    <tr>\n",
       "      <th>9</th>\n",
       "      <td>Lexus-ES-2019/17.jpg</td>\n",
       "      <td>2018-BMW-x7</td>\n",
       "    </tr>\n",
       "    <tr>\n",
       "      <th>10</th>\n",
       "      <td>2018-BMW-x7/1.jpg</td>\n",
       "      <td>2018-BMW-x7</td>\n",
       "    </tr>\n",
       "    <tr>\n",
       "      <th>11</th>\n",
       "      <td>2018-BMW-x7/10.jpg</td>\n",
       "      <td>2018-BMW-x7</td>\n",
       "    </tr>\n",
       "    <tr>\n",
       "      <th>12</th>\n",
       "      <td>2018-BMW-x7/100.jpg</td>\n",
       "      <td>2018-BMW-x7</td>\n",
       "    </tr>\n",
       "    <tr>\n",
       "      <th>13</th>\n",
       "      <td>2018-BMW-x7/11.jpg</td>\n",
       "      <td>2018-BMW-x7</td>\n",
       "    </tr>\n",
       "    <tr>\n",
       "      <th>14</th>\n",
       "      <td>2018-BMW-x7/12.jpg</td>\n",
       "      <td>2018-BMW-x7</td>\n",
       "    </tr>\n",
       "    <tr>\n",
       "      <th>15</th>\n",
       "      <td>2018-BMW-x7/14.jpg</td>\n",
       "      <td>2018-BMW-x7</td>\n",
       "    </tr>\n",
       "    <tr>\n",
       "      <th>16</th>\n",
       "      <td>2018-BMW-x7/15.jpg</td>\n",
       "      <td>2018-BMW-x7</td>\n",
       "    </tr>\n",
       "    <tr>\n",
       "      <th>17</th>\n",
       "      <td>2018-BMW-x7/16.jpg</td>\n",
       "      <td>2018-BMW-x7</td>\n",
       "    </tr>\n",
       "    <tr>\n",
       "      <th>18</th>\n",
       "      <td>2018-BMW-x7/17.jpg</td>\n",
       "      <td>2018-BMW-x7</td>\n",
       "    </tr>\n",
       "    <tr>\n",
       "      <th>19</th>\n",
       "      <td>2018-BMW-x7/18.jpg</td>\n",
       "      <td>2018-BMW-x7</td>\n",
       "    </tr>\n",
       "    <tr>\n",
       "      <th>20</th>\n",
       "      <td>Ford-Explorer-2020/1.jpg</td>\n",
       "      <td>2018-BMW-x7</td>\n",
       "    </tr>\n",
       "    <tr>\n",
       "      <th>21</th>\n",
       "      <td>Ford-Explorer-2020/10.jpg</td>\n",
       "      <td>2018-BMW-x7</td>\n",
       "    </tr>\n",
       "    <tr>\n",
       "      <th>22</th>\n",
       "      <td>Ford-Explorer-2020/100.jpg</td>\n",
       "      <td>2018-BMW-x7</td>\n",
       "    </tr>\n",
       "    <tr>\n",
       "      <th>23</th>\n",
       "      <td>Ford-Explorer-2020/11.jpg</td>\n",
       "      <td>2018-BMW-x7</td>\n",
       "    </tr>\n",
       "    <tr>\n",
       "      <th>24</th>\n",
       "      <td>Ford-Explorer-2020/12.jpg</td>\n",
       "      <td>2018-BMW-x7</td>\n",
       "    </tr>\n",
       "    <tr>\n",
       "      <th>25</th>\n",
       "      <td>Ford-Explorer-2020/13.jpg</td>\n",
       "      <td>2018-BMW-x7</td>\n",
       "    </tr>\n",
       "    <tr>\n",
       "      <th>26</th>\n",
       "      <td>Ford-Explorer-2020/14.jpg</td>\n",
       "      <td>2018-BMW-x7</td>\n",
       "    </tr>\n",
       "    <tr>\n",
       "      <th>27</th>\n",
       "      <td>Ford-Explorer-2020/15.jpg</td>\n",
       "      <td>2018-BMW-x7</td>\n",
       "    </tr>\n",
       "    <tr>\n",
       "      <th>28</th>\n",
       "      <td>Ford-Explorer-2020/16.jpg</td>\n",
       "      <td>2018-BMW-x7</td>\n",
       "    </tr>\n",
       "    <tr>\n",
       "      <th>29</th>\n",
       "      <td>Ford-Explorer-2020/17.jpg</td>\n",
       "      <td>2018-BMW-x7</td>\n",
       "    </tr>\n",
       "    <tr>\n",
       "      <th>30</th>\n",
       "      <td>Honda-Pilot-2008/1.jpg</td>\n",
       "      <td>2018-BMW-x7</td>\n",
       "    </tr>\n",
       "    <tr>\n",
       "      <th>31</th>\n",
       "      <td>Honda-Pilot-2008/10.jpg</td>\n",
       "      <td>2018-BMW-x7</td>\n",
       "    </tr>\n",
       "    <tr>\n",
       "      <th>32</th>\n",
       "      <td>Honda-Pilot-2008/100.jpg</td>\n",
       "      <td>2018-BMW-x7</td>\n",
       "    </tr>\n",
       "    <tr>\n",
       "      <th>33</th>\n",
       "      <td>Honda-Pilot-2008/11.jpg</td>\n",
       "      <td>2018-BMW-x7</td>\n",
       "    </tr>\n",
       "    <tr>\n",
       "      <th>34</th>\n",
       "      <td>Honda-Pilot-2008/12.jpg</td>\n",
       "      <td>2018-BMW-x7</td>\n",
       "    </tr>\n",
       "    <tr>\n",
       "      <th>35</th>\n",
       "      <td>Honda-Pilot-2008/13.jpg</td>\n",
       "      <td>2018-BMW-x7</td>\n",
       "    </tr>\n",
       "    <tr>\n",
       "      <th>36</th>\n",
       "      <td>Honda-Pilot-2008/14.jpg</td>\n",
       "      <td>2018-BMW-x7</td>\n",
       "    </tr>\n",
       "    <tr>\n",
       "      <th>37</th>\n",
       "      <td>Honda-Pilot-2008/15.jpg</td>\n",
       "      <td>2018-BMW-x7</td>\n",
       "    </tr>\n",
       "    <tr>\n",
       "      <th>38</th>\n",
       "      <td>Honda-Pilot-2008/16.jpg</td>\n",
       "      <td>2018-BMW-x7</td>\n",
       "    </tr>\n",
       "    <tr>\n",
       "      <th>39</th>\n",
       "      <td>Honda-Pilot-2008/17.jpg</td>\n",
       "      <td>2018-BMW-x7</td>\n",
       "    </tr>\n",
       "    <tr>\n",
       "      <th>40</th>\n",
       "      <td>Toyoata-Camry-2009/1.jpg</td>\n",
       "      <td>2018-BMW-x7</td>\n",
       "    </tr>\n",
       "    <tr>\n",
       "      <th>41</th>\n",
       "      <td>Toyoata-Camry-2009/10.jpg</td>\n",
       "      <td>2018-BMW-x7</td>\n",
       "    </tr>\n",
       "    <tr>\n",
       "      <th>42</th>\n",
       "      <td>Toyoata-Camry-2009/100.jpg</td>\n",
       "      <td>2018-BMW-x7</td>\n",
       "    </tr>\n",
       "    <tr>\n",
       "      <th>43</th>\n",
       "      <td>Toyoata-Camry-2009/11.jpg</td>\n",
       "      <td>2018-BMW-x7</td>\n",
       "    </tr>\n",
       "    <tr>\n",
       "      <th>44</th>\n",
       "      <td>Toyoata-Camry-2009/12.jpg</td>\n",
       "      <td>2018-BMW-x7</td>\n",
       "    </tr>\n",
       "    <tr>\n",
       "      <th>45</th>\n",
       "      <td>Toyoata-Camry-2009/13.jpg</td>\n",
       "      <td>2018-BMW-x7</td>\n",
       "    </tr>\n",
       "    <tr>\n",
       "      <th>46</th>\n",
       "      <td>Toyoata-Camry-2009/14.jpg</td>\n",
       "      <td>2018-BMW-x7</td>\n",
       "    </tr>\n",
       "    <tr>\n",
       "      <th>47</th>\n",
       "      <td>Toyoata-Camry-2009/15.jpg</td>\n",
       "      <td>2018-BMW-x7</td>\n",
       "    </tr>\n",
       "    <tr>\n",
       "      <th>48</th>\n",
       "      <td>Toyoata-Camry-2009/16.jpg</td>\n",
       "      <td>2018-BMW-x7</td>\n",
       "    </tr>\n",
       "    <tr>\n",
       "      <th>49</th>\n",
       "      <td>Toyoata-Camry-2009/17.jpg</td>\n",
       "      <td>2018-BMW-x7</td>\n",
       "    </tr>\n",
       "  </tbody>\n",
       "</table>\n",
       "</div>"
      ],
      "text/plain": [
       "                     Filenames  Predictions\n",
       "0          Lexus-ES-2019/1.jpg  2018-BMW-x7\n",
       "1         Lexus-ES-2019/10.jpg  2018-BMW-x7\n",
       "2        Lexus-ES-2019/100.JPG  2018-BMW-x7\n",
       "3         Lexus-ES-2019/11.jpg  2018-BMW-x7\n",
       "4         Lexus-ES-2019/12.jpg  2018-BMW-x7\n",
       "5         Lexus-ES-2019/13.jpg  2018-BMW-x7\n",
       "6         Lexus-ES-2019/14.jpg  2018-BMW-x7\n",
       "7         Lexus-ES-2019/15.jpg  2018-BMW-x7\n",
       "8         Lexus-ES-2019/16.jpg  2018-BMW-x7\n",
       "9         Lexus-ES-2019/17.jpg  2018-BMW-x7\n",
       "10           2018-BMW-x7/1.jpg  2018-BMW-x7\n",
       "11          2018-BMW-x7/10.jpg  2018-BMW-x7\n",
       "12         2018-BMW-x7/100.jpg  2018-BMW-x7\n",
       "13          2018-BMW-x7/11.jpg  2018-BMW-x7\n",
       "14          2018-BMW-x7/12.jpg  2018-BMW-x7\n",
       "15          2018-BMW-x7/14.jpg  2018-BMW-x7\n",
       "16          2018-BMW-x7/15.jpg  2018-BMW-x7\n",
       "17          2018-BMW-x7/16.jpg  2018-BMW-x7\n",
       "18          2018-BMW-x7/17.jpg  2018-BMW-x7\n",
       "19          2018-BMW-x7/18.jpg  2018-BMW-x7\n",
       "20    Ford-Explorer-2020/1.jpg  2018-BMW-x7\n",
       "21   Ford-Explorer-2020/10.jpg  2018-BMW-x7\n",
       "22  Ford-Explorer-2020/100.jpg  2018-BMW-x7\n",
       "23   Ford-Explorer-2020/11.jpg  2018-BMW-x7\n",
       "24   Ford-Explorer-2020/12.jpg  2018-BMW-x7\n",
       "25   Ford-Explorer-2020/13.jpg  2018-BMW-x7\n",
       "26   Ford-Explorer-2020/14.jpg  2018-BMW-x7\n",
       "27   Ford-Explorer-2020/15.jpg  2018-BMW-x7\n",
       "28   Ford-Explorer-2020/16.jpg  2018-BMW-x7\n",
       "29   Ford-Explorer-2020/17.jpg  2018-BMW-x7\n",
       "30      Honda-Pilot-2008/1.jpg  2018-BMW-x7\n",
       "31     Honda-Pilot-2008/10.jpg  2018-BMW-x7\n",
       "32    Honda-Pilot-2008/100.jpg  2018-BMW-x7\n",
       "33     Honda-Pilot-2008/11.jpg  2018-BMW-x7\n",
       "34     Honda-Pilot-2008/12.jpg  2018-BMW-x7\n",
       "35     Honda-Pilot-2008/13.jpg  2018-BMW-x7\n",
       "36     Honda-Pilot-2008/14.jpg  2018-BMW-x7\n",
       "37     Honda-Pilot-2008/15.jpg  2018-BMW-x7\n",
       "38     Honda-Pilot-2008/16.jpg  2018-BMW-x7\n",
       "39     Honda-Pilot-2008/17.jpg  2018-BMW-x7\n",
       "40    Toyoata-Camry-2009/1.jpg  2018-BMW-x7\n",
       "41   Toyoata-Camry-2009/10.jpg  2018-BMW-x7\n",
       "42  Toyoata-Camry-2009/100.jpg  2018-BMW-x7\n",
       "43   Toyoata-Camry-2009/11.jpg  2018-BMW-x7\n",
       "44   Toyoata-Camry-2009/12.jpg  2018-BMW-x7\n",
       "45   Toyoata-Camry-2009/13.jpg  2018-BMW-x7\n",
       "46   Toyoata-Camry-2009/14.jpg  2018-BMW-x7\n",
       "47   Toyoata-Camry-2009/15.jpg  2018-BMW-x7\n",
       "48   Toyoata-Camry-2009/16.jpg  2018-BMW-x7\n",
       "49   Toyoata-Camry-2009/17.jpg  2018-BMW-x7"
      ]
     },
     "execution_count": 21,
     "metadata": {},
     "output_type": "execute_result"
    }
   ],
   "source": [
    "filenames=test_generator.filenames\n",
    "results=pd.DataFrame({\"Filenames\":filenames,\n",
    "                      \"Predictions\":predictions})\n",
    "\n",
    "results"
   ]
  }
 ],
 "metadata": {
  "kernel_info": {
   "name": "python3-azureml"
  },
  "kernelspec": {
   "display_name": "Python 3",
   "language": "python",
   "name": "python3"
  },
  "language_info": {
   "codemirror_mode": {
    "name": "ipython",
    "version": 3
   },
   "file_extension": ".py",
   "mimetype": "text/x-python",
   "name": "python",
   "nbconvert_exporter": "python",
   "pygments_lexer": "ipython3",
   "version": "3.7.8"
  },
  "microsoft": {
   "host": {
    "AzureML": {
     "notebookHasBeenCompleted": true
    }
   }
  },
  "nteract": {
   "version": "nteract-front-end@1.0.0"
  }
 },
 "nbformat": 4,
 "nbformat_minor": 2
}
